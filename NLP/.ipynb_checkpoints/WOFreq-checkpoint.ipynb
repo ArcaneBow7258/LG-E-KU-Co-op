{
 "cells": [
  {
   "cell_type": "code",
   "execution_count": 40,
   "id": "f0fd671c-20c1-4d40-b870-0dfc94362a61",
   "metadata": {},
   "outputs": [],
   "source": [
    "import pymssql\n",
    "import pyodbc\n",
    "import psutil\n",
    "import socket\n",
    "import pandas\n",
    "import numpy\n",
    "\n",
    "import nltk\n",
    "from nltk.corpus import stopwords\n",
    "\n",
    "stop_words = set(stopwords.words(\"english\"))\n",
    "from nltk.stem import PorterStemmer\n",
    "stemmer = PorterStemmer()\n",
    "from nltk import FreqDist\n",
    "from nltk.corpus import words\n",
    "correct_spellings = words.words()\n",
    "\n",
    "\n",
    "import matplotlib\n",
    "#import signal\n",
    "#import sys\n",
    "import os\n",
    "#import re\n",
    "\n",
    "from datetime import datetime\n",
    "\n",
    "                   \n",
    "\n",
    "hostVM = r''\n",
    "userVM = r''\n",
    "pwdVM = ''\n",
    "\n",
    "hostWO = r''\n",
    "userWO = ''\n",
    "pwdWO = ''\n",
    "dbSQL = ''\n",
    "VMName = socket.gethostname()\n"
   ]
  },
  {
   "cell_type": "code",
   "execution_count": 3,
   "id": "bd1d00b2-5123-402e-a64f-3658f98684a4",
   "metadata": {},
   "outputs": [],
   "source": [
    "def executeSQLStatement(hostSQL, userSQL, pwdSQL, sqlStatement):\n",
    " try:\n",
    "  print(sqlStatement)\n",
    "  cnxn = pymssql.connect(host=hostSQL,user=userSQL,password=pwdSQL,database=dbSQL)\n",
    "  cursor = cnxn.cursor()\n",
    "  cursor.execute(sqlStatement)\n",
    "  cnxn.commit()\n",
    " except Exception as e:\n",
    "  print('Audit - SQL: ',str(e))\n",
    "  print(sqlStatement)\n",
    "  print(\"Error!\")\n",
    "  #executeSQLStatement(sqlStatement)\n",
    "\n",
    "def grabData(hostSQL, userSQL, pwdSQL, sqlStatement):\n",
    " try:\n",
    "  print(sqlStatement)\n",
    "  #cnxn = pymssql.connect(host=hostSQL,user=userSQL,password=pwdSQL,database=dbSQL)\n",
    "  cnxn = pyodbc.connect('DRIVER={ODBC Driver 17 for SQL Server};SERVER='+hostSQL+';DATABASE='+dbSQL+';UID='+userSQL+';PWD='+ pwdSQL)\n",
    "  return pandas.read_sql(sqlStatement, cnxn)\n",
    " except Exception as e:\n",
    "  print('Audit - SQL: ',str(e))\n",
    "  print(sqlStatement)\n",
    "  print('Error!')\n",
    "  #executeSQLStatement(sqlStatement)\n",
    "  return None\n",
    "'''def removeStops(text):\n",
    "    filtered = []\n",
    "    for word in text:\n",
    "        if word.lower() not in stop_words and len(word) >= 3:\n",
    "            allVowels = True\n",
    "            for letter in word:\n",
    "                if letter not in 'aeiou':\n",
    "                    allVowels = False\n",
    "            if not allVowels:\n",
    "                filtered.append(word)\n",
    "    return filtered'''\n",
    "def removeStops(text):\n",
    "    filtered = []\n",
    "    for word in text:\n",
    "        word = word.lower()\n",
    "        #temp = [(jaccard_distance(set(ngrams(word, 2)), set(ngrams(w, 2))),w) for w in correct_spellings if w[0]==word[0]]\n",
    "        #sorted(temp, key = lambda val:val[0])[0][1]\n",
    "        \n",
    "        if word not in stop_words:\n",
    "            filtered.append(word)\n",
    "    return filtered\n",
    "def stemming(text):\n",
    "    words = []\n",
    "    for word in text:\n",
    "        words.append(stemmer.stem(word))\n",
    "    return words"
   ]
  },
  {
   "cell_type": "code",
   "execution_count": 70,
   "id": "edbab33e-ab87-4ba7-834e-7ef6b01f47d8",
   "metadata": {},
   "outputs": [
    {
     "name": "stdout",
     "output_type": "stream",
     "text": [
      "SELECT TOP (10) *\n",
      "    FROM [Generation].[quest].[Drawings]\n",
      "    WHERE DrawingTextAll IS NOT NULL\n",
      "    \n",
      "SELECT  \n",
      "      concat( [PMDescription]\n",
      "      ,[DESCRIPTION]\n",
      "      ,[TARGETDESC]\n",
      "      ,[Comment]) as combinedText\n",
      "  FROM [Generation].[agent].[MaximoWorkOrders] WHERE [LOCATION] LIKE 'BR000ABSBLDP0-1A'\n"
     ]
    },
    {
     "name": "stderr",
     "output_type": "stream",
     "text": [
      "/home/spark/.local/lib/python3.8/site-packages/pandas/io/sql.py:761: UserWarning: pandas only support SQLAlchemy connectable(engine/connection) ordatabase string URI or sqlite3 DBAPI2 connectionother DBAPI2 objects are not tested, please consider using SQLAlchemy\n",
      "  warnings.warn(\n",
      "/home/spark/.local/lib/python3.8/site-packages/pandas/io/sql.py:761: UserWarning: pandas only support SQLAlchemy connectable(engine/connection) ordatabase string URI or sqlite3 DBAPI2 connectionother DBAPI2 objects are not tested, please consider using SQLAlchemy\n",
      "  warnings.warn(\n"
     ]
    }
   ],
   "source": [
    "MaximoLocations = ()\n",
    "drawings = grabData(hostVM, userVM, pwdVM, \"\"\"SELECT TOP (10) *\n",
    "    FROM [Generation].[quest].[Drawings]\n",
    "    WHERE DrawingTextAll IS NOT NULL\n",
    "    \"\"\")\n",
    "'''[WONUM]\n",
    "      ,[LOC]\n",
    "      ,[Loc_Name]\n",
    "      ,[LOCATION]'''\n",
    "workOrders = grabData(hostWO, userWO, pwdWO, f\"\"\"SELECT  \n",
    "      concat( [PMDescription]\n",
    "      ,[DESCRIPTION]\n",
    "      ,[TARGETDESC]\n",
    "      ,[Comment]) as combinedText\n",
    "  FROM [Generation].[agent].[MaximoWorkOrders] WHERE [LOCATION] LIKE {MaximoLocations}\"\"\")"
   ]
  },
  {
   "cell_type": "code",
   "execution_count": null,
   "id": "b63d20ac-60d7-4aa5-82ee-54bf25aff76a",
   "metadata": {},
   "outputs": [],
   "source": [
    "print('\\n\\n\\n\\n TIME FOR WO')\n",
    "\n",
    "start = datetime.now()\n",
    "print(\"started: \" + start.strftime(\"%H:%M:%S\"))\n",
    "print(workOrders.columns)\n",
    "woText = workOrders.groupby(lambda _ : True)['combinedText'].transform(lambda x : ' '.join(x)).iat[0]\n",
    "print(woText)\n",
    "print('\\n\\n tokenize')\n",
    "woText = nltk.tokenize.RegexpTokenizer('[A-Z]\\w+').tokenize(woText)\n",
    "print(woText)\n",
    "\n",
    "print('\\n\\n stops + stemming')\n",
    "woText = removeStops(woText)\n"
   ]
  },
  {
   "cell_type": "code",
   "execution_count": 84,
   "id": "5a334a5b-ec3b-45b2-8cfe-d5031c2d9db3",
   "metadata": {},
   "outputs": [],
   "source": [
    "from sklearn.feature_extraction.text import CountVectorizer\n",
    "vectorizer = CountVectorizer()\n",
    "X = vectorizer.fit_transform(woText)\n",
    "analyze = vectorizer.build_analyzer()\n",
    "vectorizer.vocabulary_.get('BLEED')"
   ]
  },
  {
   "cell_type": "code",
   "execution_count": 68,
   "id": "6efc84ec-5826-49de-855f-d4227b9181df",
   "metadata": {},
   "outputs": [
    {
     "name": "stdout",
     "output_type": "stream",
     "text": [
      "\n",
      "\n",
      " frequency\n"
     ]
    },
    {
     "ename": "NameError",
     "evalue": "name 'vectorizer' is not defined",
     "output_type": "error",
     "traceback": [
      "\u001b[0;31m---------------------------------------------------------------------------\u001b[0m",
      "\u001b[0;31mNameError\u001b[0m                                 Traceback (most recent call last)",
      "\u001b[0;32m<ipython-input-68-262baf63c9df>\u001b[0m in \u001b[0;36m<module>\u001b[0;34m\u001b[0m\n\u001b[1;32m      1\u001b[0m \u001b[0mprint\u001b[0m\u001b[0;34m(\u001b[0m\u001b[0;34m'\\n\\n frequency'\u001b[0m\u001b[0;34m)\u001b[0m\u001b[0;34m\u001b[0m\u001b[0;34m\u001b[0m\u001b[0m\n\u001b[1;32m      2\u001b[0m \u001b[0mwoText\u001b[0m \u001b[0;34m=\u001b[0m \u001b[0mFreqDist\u001b[0m\u001b[0;34m(\u001b[0m\u001b[0mwoText\u001b[0m\u001b[0;34m)\u001b[0m\u001b[0;34m\u001b[0m\u001b[0;34m\u001b[0m\u001b[0m\n\u001b[0;32m----> 3\u001b[0;31m \u001b[0mX\u001b[0m \u001b[0;34m=\u001b[0m \u001b[0mvectorizer\u001b[0m\u001b[0;34m.\u001b[0m\u001b[0mfit_transform\u001b[0m\u001b[0;34m(\u001b[0m\u001b[0mwoText\u001b[0m\u001b[0;34m)\u001b[0m\u001b[0;34m\u001b[0m\u001b[0;34m\u001b[0m\u001b[0m\n\u001b[0m",
      "\u001b[0;31mNameError\u001b[0m: name 'vectorizer' is not defined"
     ]
    }
   ],
   "source": [
    "print('\\n\\n frequency')\n",
    "woText = FreqDist(woText)\n"
   ]
  },
  {
   "cell_type": "code",
   "execution_count": 49,
   "id": "930493f5-fa1f-41f9-8612-8d422ebb0e03",
   "metadata": {},
   "outputs": [
    {
     "data": {
      "text/html": [
       "<div>\n",
       "<style scoped>\n",
       "    .dataframe tbody tr th:only-of-type {\n",
       "        vertical-align: middle;\n",
       "    }\n",
       "\n",
       "    .dataframe tbody tr th {\n",
       "        vertical-align: top;\n",
       "    }\n",
       "\n",
       "    .dataframe thead th {\n",
       "        text-align: right;\n",
       "    }\n",
       "</style>\n",
       "<table border=\"1\" class=\"dataframe\">\n",
       "  <thead>\n",
       "    <tr style=\"text-align: right;\">\n",
       "      <th></th>\n",
       "      <th>Word</th>\n",
       "      <th>Frequency</th>\n",
       "    </tr>\n",
       "  </thead>\n",
       "  <tbody>\n",
       "    <tr>\n",
       "      <th>0</th>\n",
       "      <td>replace</td>\n",
       "      <td>9</td>\n",
       "    </tr>\n",
       "    <tr>\n",
       "      <th>1</th>\n",
       "      <td>unit</td>\n",
       "      <td>1</td>\n",
       "    </tr>\n",
       "    <tr>\n",
       "      <th>2</th>\n",
       "      <td>remove</td>\n",
       "      <td>4</td>\n",
       "    </tr>\n",
       "    <tr>\n",
       "      <th>3</th>\n",
       "      <td>spring</td>\n",
       "      <td>1</td>\n",
       "    </tr>\n",
       "    <tr>\n",
       "      <th>4</th>\n",
       "      <td>lower</td>\n",
       "      <td>1</td>\n",
       "    </tr>\n",
       "    <tr>\n",
       "      <th>...</th>\n",
       "      <td>...</td>\n",
       "      <td>...</td>\n",
       "    </tr>\n",
       "    <tr>\n",
       "      <th>425</th>\n",
       "      <td>analyzer</td>\n",
       "      <td>1</td>\n",
       "    </tr>\n",
       "    <tr>\n",
       "      <th>426</th>\n",
       "      <td>cooling</td>\n",
       "      <td>1</td>\n",
       "    </tr>\n",
       "    <tr>\n",
       "      <th>427</th>\n",
       "      <td>wtr</td>\n",
       "      <td>1</td>\n",
       "    </tr>\n",
       "    <tr>\n",
       "      <th>428</th>\n",
       "      <td>mtr</td>\n",
       "      <td>1</td>\n",
       "    </tr>\n",
       "    <tr>\n",
       "      <th>429</th>\n",
       "      <td>hot</td>\n",
       "      <td>1</td>\n",
       "    </tr>\n",
       "  </tbody>\n",
       "</table>\n",
       "<p>430 rows × 2 columns</p>\n",
       "</div>"
      ],
      "text/plain": [
       "         Word  Frequency\n",
       "0     replace          9\n",
       "1        unit          1\n",
       "2      remove          4\n",
       "3      spring          1\n",
       "4       lower          1\n",
       "..        ...        ...\n",
       "425  analyzer          1\n",
       "426   cooling          1\n",
       "427       wtr          1\n",
       "428       mtr          1\n",
       "429       hot          1\n",
       "\n",
       "[430 rows x 2 columns]"
      ]
     },
     "execution_count": 49,
     "metadata": {},
     "output_type": "execute_result"
    }
   ],
   "source": [
    "export = pandas.DataFrame(list(woText.items()), columns = [\"Word\",\"Frequency\"])\n",
    "export"
   ]
  },
  {
   "cell_type": "code",
   "execution_count": 51,
   "id": "747f159f-7857-4423-9722-bbed02d6325a",
   "metadata": {},
   "outputs": [
    {
     "data": {
      "text/plain": [
       "array([[<AxesSubplot:title={'center':'Frequency'}>]], dtype=object)"
      ]
     },
     "execution_count": 51,
     "metadata": {},
     "output_type": "execute_result"
    },
    {
     "data": {
      "image/png": "[encoded data removed]",
      "text/plain": [
       "<Figure size 432x288 with 1 Axes>"
      ]
     },
     "metadata": {
      "needs_background": "light"
     },
     "output_type": "display_data"
    }
   ],
   "source": [
    "export.hist(column=['Frequency'], range= (0,40))"
   ]
  },
  {
   "cell_type": "code",
   "execution_count": 38,
   "id": "82179bf2-7e8c-4c32-8f64-f613e7305b9d",
   "metadata": {},
   "outputs": [
    {
     "data": {
      "text/html": [
       "<div>\n",
       "<style scoped>\n",
       "    .dataframe tbody tr th:only-of-type {\n",
       "        vertical-align: middle;\n",
       "    }\n",
       "\n",
       "    .dataframe tbody tr th {\n",
       "        vertical-align: top;\n",
       "    }\n",
       "\n",
       "    .dataframe thead th {\n",
       "        text-align: right;\n",
       "    }\n",
       "</style>\n",
       "<table border=\"1\" class=\"dataframe\">\n",
       "  <thead>\n",
       "    <tr style=\"text-align: right;\">\n",
       "      <th></th>\n",
       "      <th>Word</th>\n",
       "      <th>Frequency</th>\n",
       "    </tr>\n",
       "  </thead>\n",
       "  <tbody>\n",
       "    <tr>\n",
       "      <th>34</th>\n",
       "      <td>pumpmc</td>\n",
       "      <td>13</td>\n",
       "    </tr>\n",
       "    <tr>\n",
       "      <th>306</th>\n",
       "      <td>aquapro</td>\n",
       "      <td>22</td>\n",
       "    </tr>\n",
       "    <tr>\n",
       "      <th>331</th>\n",
       "      <td>hph</td>\n",
       "      <td>18</td>\n",
       "    </tr>\n",
       "    <tr>\n",
       "      <th>349</th>\n",
       "      <td>ver</td>\n",
       "      <td>14</td>\n",
       "    </tr>\n",
       "    <tr>\n",
       "      <th>400</th>\n",
       "      <td>collectpm</td>\n",
       "      <td>28</td>\n",
       "    </tr>\n",
       "    <tr>\n",
       "      <th>...</th>\n",
       "      <td>...</td>\n",
       "      <td>...</td>\n",
       "    </tr>\n",
       "    <tr>\n",
       "      <th>137153</th>\n",
       "      <td>valvesweekly</td>\n",
       "      <td>23</td>\n",
       "    </tr>\n",
       "    <tr>\n",
       "      <th>137365</th>\n",
       "      <td>oilweekly</td>\n",
       "      <td>20</td>\n",
       "    </tr>\n",
       "    <tr>\n",
       "      <th>137488</th>\n",
       "      <td>perip</td>\n",
       "      <td>39</td>\n",
       "    </tr>\n",
       "    <tr>\n",
       "      <th>137489</th>\n",
       "      <td>dopm</td>\n",
       "      <td>19</td>\n",
       "    </tr>\n",
       "    <tr>\n",
       "      <th>137490</th>\n",
       "      <td>standardizat</td>\n",
       "      <td>19</td>\n",
       "    </tr>\n",
       "  </tbody>\n",
       "</table>\n",
       "<p>7841 rows × 2 columns</p>\n",
       "</div>"
      ],
      "text/plain": [
       "                Word  Frequency\n",
       "34            pumpmc         13\n",
       "306          aquapro         22\n",
       "331              hph         18\n",
       "349              ver         14\n",
       "400        collectpm         28\n",
       "...              ...        ...\n",
       "137153  valvesweekly         23\n",
       "137365     oilweekly         20\n",
       "137488         perip         39\n",
       "137489          dopm         19\n",
       "137490  standardizat         19\n",
       "\n",
       "[7841 rows x 2 columns]"
      ]
     },
     "execution_count": 38,
     "metadata": {},
     "output_type": "execute_result"
    }
   ],
   "source": [
    "dictionary = export[export['Frequency'] < 40]\n",
    "dictionary = dictionary[dictionary['Frequency'] > 10]\n",
    "dictionary"
   ]
  },
  {
   "cell_type": "code",
   "execution_count": 54,
   "id": "dcdbcdcb-714b-465a-ae56-77cb05a6b0a0",
   "metadata": {},
   "outputs": [
    {
     "name": "stdout",
     "output_type": "stream",
     "text": [
      "Counter({0: 33, 1: 29, 2: 28})\n",
      "Counter({2: 22, 1: 21, 0: 17})\n"
     ]
    }
   ],
   "source": [
    "from collections import Counter\n",
    "\n",
    "import numpy as np\n",
    "\n",
    "from sklearn.datasets import load_iris\n",
    "\n",
    "from sklearn.model_selection import train_test_split\n",
    "\n",
    "iris = load_iris()\n",
    "X = iris.data\n",
    "y = iris.target\n",
    "\n",
    "#Split dataset into train and test\n",
    "X_train, X_test, y_train, y_test = train_test_split(X, y, test_size = 0.4)\n",
    "\n",
    "print(Counter(y_train))\n",
    "\n",
    "print(Counter(y_test))"
   ]
  }
 ],
 "metadata": {
  "kernelspec": {
   "display_name": "Python 3 (ipykernel)",
   "language": "python",
   "name": "python3"
  },
  "language_info": {
   "codemirror_mode": {
    "name": "ipython",
    "version": 3
   },
   "file_extension": ".py",
   "mimetype": "text/x-python",
   "name": "python",
   "nbconvert_exporter": "python",
   "pygments_lexer": "ipython3",
   "version": "3.9.12"
  }
 },
 "nbformat": 4,
 "nbformat_minor": 5
}
