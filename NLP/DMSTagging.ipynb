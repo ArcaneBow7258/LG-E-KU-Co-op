{
 "cells": [
  {
   "cell_type": "code",
   "execution_count": 2,
   "id": "7a4b3ea0-96b3-441b-be58-8d8030ee7028",
   "metadata": {},
   "outputs": [],
   "source": [
    "import pandas as pd\n",
    "from pandas import DataFrame\n",
    "import numpy as np\n",
    "import pyodbc\n",
    "import nltk\n",
    "from nltk.corpus import stopwords\n",
    "stop_words = set(stopwords.words(\"english\"))\n",
    "from nltk.stem import PorterStemmer\n",
    "ps = PorterStemmer()\n",
    "from nltk.tokenize import word_tokenize\n",
    "from nltk import FreqDist\n",
    "from sklearn.model_selection import train_test_split\n",
    "from sklearn.feature_extraction.text import CountVectorizer\n",
    "from sklearn.feature_extraction.text import TfidfTransformer\n",
    "from sklearn.feature_extraction.text import TfidfVectorizer\n",
    "from sklearn.neighbors import RadiusNeighborsClassifier\n",
    "from sklearn.cluster import KMeans\n",
    "from sklearn.pipeline import Pipeline\n",
    "from sklearn.naive_bayes import MultinomialNB\n",
    "from sklearn import metrics\n",
    "import gensim"
   ]
  },
  {
   "cell_type": "code",
   "execution_count": null,
   "id": "984363e0-08e0-4411-9d82-9a29a2e78ad6",
   "metadata": {},
   "outputs": [],
   "source": [
    "DMS = pd.read_csv('DMS.csv')\n",
    "DMS.head()"
   ]
  },
  {
   "cell_type": "code",
   "execution_count": null,
   "id": "55665624-04f9-4116-9b1e-d15374f2f063",
   "metadata": {
    "tags": []
   },
   "outputs": [],
   "source": [
    "subDMS = DMS[['Discipline','Title','Original Source']]\n",
    "subDMS['Combined'] = subDMS[['Title', 'Original Source']].apply(lambda x: ','.join(x.dropna()), axis=1)\n",
    "subDMS"
   ]
  },
  {
   "cell_type": "code",
   "execution_count": null,
   "id": "7491a546-6b23-47eb-acf8-8e395feae8e6",
   "metadata": {
    "tags": []
   },
   "outputs": [],
   "source": [
    "def processText(text):\n",
    "    text_tokens = word_tokenize(text)\n",
    "    #text_tokens = nltk.tokenize.RegexpTokenizer(r'\\w+').tokenize(text)\n",
    "    text_tokens = [word for word in text_tokens if not word in stop_words]  ##Remove Stop Words\n",
    "    text_tokens = [ps.stem(word) for word in text_tokens] #Stem Words\n",
    "    text_tokens = [word for word in text_tokens if len(word) > 2] #Removing noise\n",
    "    text_tokens = [word for word in text_tokens if word.isalpha()] #Remove Punctuation\n",
    "    text_tokens = [ele for ele in text_tokens if ele.strip()] #remove empty spaces in list\n",
    "    return text_tokens\n",
    "\n",
    "subDMS['Dataset'] = subDMS['Combined'].apply(processText)\n",
    "subDMS"
   ]
  },
  {
   "cell_type": "code",
   "execution_count": 106,
   "id": "1ce2f130-fcd1-4614-a617-9dbc64e71685",
   "metadata": {
    "tags": []
   },
   "outputs": [
    {
     "name": "stdout",
     "output_type": "stream",
     "text": [
      "['36528', '36623']\n",
      "0.8405260994656802\n"
     ]
    },
    {
     "name": "stderr",
     "output_type": "stream",
     "text": [
      "/home/spark/.local/lib/python3.8/site-packages/sklearn/utils/deprecation.py:87: FutureWarning: Function get_feature_names is deprecated; get_feature_names is deprecated in 1.0 and will be removed in 1.2. Please use get_feature_names_out instead.\n",
      "  warnings.warn(msg, category=FutureWarning)\n"
     ]
    }
   ],
   "source": [
    "X = subDMS['Combined']\n",
    "y = subDMS['Discipline']\n",
    "#Spliting Data\n",
    "X_train, X_test, y_train, y_test = train_test_split(X,y,test_size=0.2,random_state=2)\n",
    "#processing stop_words\n",
    "count_vectorizer = CountVectorizer(stop_words = 'english')\n",
    "#training \"fit of curve\" sort of deal\n",
    "count_train = count_vectorizer.fit_transform(X_train.values)\n",
    "#transforms our test data using the above fit.\n",
    "count_test = count_vectorizer.transform(X_test.values)\n",
    "print(count_vectorizer.get_feature_names()[1000:1002])\n",
    "#Classifier for words\n",
    "nb_classifier = MultinomialNB()\n",
    "nb_classifier.fit(count_train,y_train)\n",
    "pred = nb_classifier.predict(count_test)\n",
    "print(metrics.accuracy_score(y_test,pred))\n"
   ]
  },
  {
   "cell_type": "code",
   "execution_count": null,
   "id": "1b0e8789-840a-4a67-985f-39286e686904",
   "metadata": {},
   "outputs": [],
   "source": [
    "subDMS['predict'] = subDMS['Dataset'].apply(lambda x: (count_vectorizer.transform([ ' '.join(x)]))).apply(lambda x: nb_classifier.predict( x ))\n"
   ]
  },
  {
   "cell_type": "code",
   "execution_count": null,
   "id": "dd48cc40-922d-4a6d-acb2-bb099f24c9c0",
   "metadata": {
    "tags": []
   },
   "outputs": [],
   "source": [
    "#Drwawings test\n",
    "hostVM = r''\n",
    "userVM = r''\n",
    "pwdVM = ''\n",
    "dbSQL = ''\n",
    "sqlStatement=  \"\"\"SELECT TOP (25) DrawingID, SUBSTRING(Name,9,100) as Name, DrawingTextAll\n",
    "    FROM [Generation].[quest].[Drawings]\n",
    "    WHERE DrawingTextAll IS NOT NULL AND Name LIKE '%Mill Creek%' AND DRAWINGID < \\'3437674\\' ORDER BY DrawingID DESC\n",
    "    \"\"\"\n",
    "cnxn = pyodbc.connect('DRIVER={ODBC Driver 17 for SQL Server};SERVER='+hostVM+';DATABASE='+dbSQL+';UID='+userVM+';PWD='+ pwdVM)\n",
    "drawings = pd.read_sql(sqlStatement, cnxn)\n",
    "drawings.head()"
   ]
  },
  {
   "cell_type": "code",
   "execution_count": null,
   "id": "db3597e7-fd77-40d5-b6a7-bad56704c558",
   "metadata": {},
   "outputs": [],
   "source": [
    "drawings['set'] = drawings['Name'].apply(lambda x: x.replace(' ','-').split('-'))\n",
    "drawings['predict'] = drawings['set'].apply(lambda x: (count_vectorizer.transform([ ' '.join(x)]))).apply(lambda x: nb_classifier.predict( x ))\n"
   ]
  },
  {
   "cell_type": "code",
   "execution_count": null,
   "id": "42106c50-8935-4740-b198-951b265af195",
   "metadata": {},
   "outputs": [],
   "source": [
    "drawings"
   ]
  }
 ],
 "metadata": {
  "kernelspec": {
   "display_name": "Python 3 (ipykernel)",
   "language": "python",
   "name": "python3"
  },
  "language_info": {
   "codemirror_mode": {
    "name": "ipython",
    "version": 3
   },
   "file_extension": ".py",
   "mimetype": "text/x-python",
   "name": "python",
   "nbconvert_exporter": "python",
   "pygments_lexer": "ipython3",
   "version": "3.9.12"
  }
 },
 "nbformat": 4,
 "nbformat_minor": 5
}
